{
 "cells": [
  {
   "cell_type": "code",
   "execution_count": 1,
   "metadata": {},
   "outputs": [],
   "source": [
    "import pandas as pd\n",
    "import matplotlib.pyplot as plt\n",
    "import numpy as np\n",
    "import sqlite3\n",
    "from typing import List, Tuple, Dict\n",
    "import warnings"
   ]
  },
  {
   "cell_type": "markdown",
   "metadata": {},
   "source": [
    "Connect to the dataset"
   ]
  },
  {
   "cell_type": "code",
   "execution_count": 2,
   "metadata": {},
   "outputs": [],
   "source": [
    "db = sqlite3.connect(\"aosp_acs.db\")"
   ]
  },
  {
   "cell_type": "markdown",
   "metadata": {},
   "source": [
    "Queries"
   ]
  },
  {
   "cell_type": "code",
   "execution_count": 3,
   "metadata": {},
   "outputs": [],
   "source": [
    "def cursor_to_dataframe(cursor):\n",
    "    with warnings.catch_warnings():\n",
    "        # TODO: pandas 2.1.0 has a FutureWarning for concatenating DataFrames with Null entries\n",
    "        warnings.filterwarnings(\"ignore\", category=FutureWarning)\n",
    "        columns = [desc[0] for desc in (cursor.description)]\n",
    "        df_records = pd.DataFrame(columns=columns)\n",
    "        for row in cursor:\n",
    "            df_temp = pd.DataFrame([row], columns=columns)\n",
    "            if df_temp.empty:\n",
    "                continue\n",
    "            df_records = pd.concat([df_records, df_temp])\n",
    "    return df_records.reset_index(drop=True)"
   ]
  },
  {
   "cell_type": "code",
   "execution_count": 4,
   "metadata": {},
   "outputs": [],
   "source": [
    "def acs_in_a_project(project_name) -> pd.DataFrame:\n",
    "    cursor = db.execute(\"SELECT count(id) as ac_count,path,ac,loc FROM ac_reports WHERE path IN (SELECT path FROM files WHERE files.project_name = ?) GROUP BY path,ac\",(project_name,))\n",
    "    return cursor_to_dataframe(cursor)\n",
    "\n",
    "def ck_in_a_project(project_name) -> pd.DataFrame:\n",
    "    cursor = db.execute(\"SELECT * from classes WHERE file_path IN (SELECT path FROM files WHERE files.project_name = ?)\", (project_name,))\n",
    "    df = cursor_to_dataframe(cursor)\n",
    "    NUMERIC_FIELDS = ['cbo', 'cboModified', 'fanin',\n",
    "       'fanout', 'wmc', 'dit', 'noc', 'rfc', 'lcom', 'lcom_normalized', 'tcc',\n",
    "       'lcc', 'totalMethodsQty', 'staticMethodsQty', 'publicMethodsQty',\n",
    "       'privateMethodsQty', 'protectedMethodsQty', 'defaultMethodsQty',\n",
    "       'visibleMethodsQty', 'abstractMethodsQty', 'finalMethodsQty',\n",
    "       'synchronizedMethodsQty', 'totalFieldsQty', 'staticFieldsQty',\n",
    "       'publicFieldsQty', 'privateFieldsQty', 'protectedFieldsQty',\n",
    "       'defaultFieldsQty', 'finalFieldsQty', 'synchronizedFieldsQty', 'nosi',\n",
    "       'loc', 'returnQty', 'loopQty', 'comparisonsQty', 'tryCatchQty',\n",
    "       'parenthesizedExpsQty', 'stringLiteralsQty', 'numbersQty',\n",
    "       'assignmentsQty', 'mathOperationsQty', 'variablesQty',\n",
    "       'maxNestedBlocksQty', 'anonymousClassesQty', 'innerClassesQty',\n",
    "       'lambdasQty', 'uniqueWordsQty', 'modifiers', 'logStatementsQty']\n",
    "    for field in NUMERIC_FIELDS:\n",
    "        df[field] = df[field].astype(float)\n",
    "    return df\n",
    "\n",
    "def ck_in_file(file_name: str):\n",
    "    cursor = db.execute(\"SELECT * from classes WHERE file_path = ?\", (file_name,))\n",
    "    df = cursor_to_dataframe(cursor)\n",
    "    return df\n",
    "\n",
    "\n",
    "\"\"\"Prevalence report of AC in a project\"\"\"\n",
    "def report_types_of_acs(project_name):\n",
    "    sql = f\"SELECT ac, count(id) as qty FROM ac_reports WHERE project_name LIKE '{project_name}' GROUP BY ac ORDER BY qty DESC\"\n",
    "    cursor = db.execute(sql)\n",
    "    return cursor_to_dataframe(cursor)\n",
    "\n",
    "def files_in_a_project(project_name) -> pd.DataFrame:\n",
    "    cursor = db.execute(\"SELECT * FROM files WHERE project_name = ?\", (project_name,))\n",
    "    return cursor_to_dataframe(cursor)\n",
    "\n",
    "def loc_of_file(file_name) -> int:\n",
    "    cursor = db.execute(\"SELECT loc FROM files WHERE path = ?\", (file_name,))\n",
    "    return int(next(cursor)[0])\n",
    "\n",
    "def number_of_acs_in_files(project_name) -> dict:\n",
    "    sql = f\"\"\"\n",
    "    SELECT files.path, coalesce(ac_count, 0) AS count_acs\n",
    "    FROM files\n",
    "    LEFT JOIN\n",
    "    (SELECT ac_reports.path AS ac_reports_path, count(id) AS ac_count\n",
    "    FROM ac_reports\n",
    "    WHERE project_name = '{project_name}'\n",
    "    GROUP BY ac_reports.path)\n",
    "    ON files.path = ac_reports_path\n",
    "    WHERE files.project_name = '{project_name}'\n",
    "    ORDER BY count_acs DESC;\n",
    "    \"\"\"\n",
    "    cursor = db.execute(sql)\n",
    "    return {k: v for k,v in cursor}\n",
    "\n",
    "def report_files_with_acs(project_name) -> pd.Series:\n",
    "    sql = f\"SELECT DISTINCT path FROM ac_reports WHERE project_name = '{project_name}'\"\n",
    "    cursor = db.execute(sql)\n",
    "    return pd.Series([tup[0] for tup in cursor])\n",
    "\n",
    "def report_files_without_acs(project_name) -> pd.Series:\n",
    "    sql = f\"SELECT path FROM files WHERE project_name = '{project_name}'\"\n",
    "    cursor = db.execute(sql)\n",
    "    all_files = [tup[0] for tup in cursor]\n",
    "    files_with_ac = report_files_with_acs(project_name)\n",
    "    return pd.Series([file for file in all_files if file not in files_with_ac])\n",
    "\n",
    "def report_projects_with_atoms() -> pd.Series:\n",
    "    sql = \"SELECT project_name from ac_reports GROUP BY project_name\"\n",
    "    cursor = db.execute(sql)\n",
    "    all_projs_with_acs = [tup[0] for tup in cursor]\n",
    "    return pd.Series(all_projs_with_acs)"
   ]
  },
  {
   "cell_type": "code",
   "execution_count": 25,
   "metadata": {},
   "outputs": [],
   "source": [
    "def acronym_ac(ac_name: str) -> str:\n",
    "    ac_map = {\n",
    "        \"Change of Literal Encoding\":\"CoLE\",\n",
    "        \"Conditional Operator\":\"CO\",\n",
    "        \"Infix Operator Precedence\":\"IOP\",\n",
    "        \"Logic as Control Flow\":\"LaCF\",\n",
    "        \"Post Increment Decrement\":\"Post-Inc/Dec\",\n",
    "        \"Pre Increment Decrement\":\"Pre-Inc/Dec\",\n",
    "        \"Type Conversion\":\"TC\",\n",
    "        \"Omitted Curly Braces\":\"OCB\",\n",
    "        \"Repurposed Variables\": \"RV\"\n",
    "    }\n",
    "    return f\"ac_{ac_map.get(ac_name, ac_name)}\""
   ]
  },
  {
   "cell_type": "code",
   "execution_count": 5,
   "metadata": {},
   "outputs": [
    {
     "data": {
      "text/plain": [
       "0                                art\n",
       "1                  bootable/recovery\n",
       "2                         build/make\n",
       "3                                cts\n",
       "4                             dalvik\n",
       "                   ...              \n",
       "326            tools/platform-compat\n",
       "327                   tools/security\n",
       "328     tools/test/graphicsbenchmark\n",
       "329    tools/tradefederation/contrib\n",
       "330       tools/tradefederation/core\n",
       "Length: 331, dtype: object"
      ]
     },
     "execution_count": 5,
     "metadata": {},
     "output_type": "execute_result"
    }
   ],
   "source": [
    "report_projects_with_atoms()"
   ]
  },
  {
   "cell_type": "code",
   "execution_count": 6,
   "metadata": {},
   "outputs": [],
   "source": [
    "def identity(x):\n",
    "    return x"
   ]
  },
  {
   "cell_type": "markdown",
   "metadata": {},
   "source": [
    "Get the list of core apps"
   ]
  },
  {
   "cell_type": "code",
   "execution_count": 7,
   "metadata": {},
   "outputs": [],
   "source": [
    "cursor = db.execute(\"SELECT * FROM files;\")\n",
    "ALL_PROJECTS = set()\n",
    "for path,loc, project_name in cursor:\n",
    "    ALL_PROJECTS.add(project_name)"
   ]
  },
  {
   "cell_type": "code",
   "execution_count": 8,
   "metadata": {},
   "outputs": [],
   "source": [
    "cursor = db.execute(\"SELECT ac FROM ac_reports;\")\n",
    "ALL_ACS = set()\n",
    "for ac, in cursor:\n",
    "    ALL_ACS.add(ac)"
   ]
  },
  {
   "cell_type": "code",
   "execution_count": 9,
   "metadata": {},
   "outputs": [],
   "source": [
    "cursor = db.execute(\"SELECT * FROM files WHERE path LIKE '/AOSP/packages/apps%';\")\n",
    "apps_set = set()\n",
    "for path,loc, project_name in cursor:\n",
    "    apps_set.add(project_name)"
   ]
  },
  {
   "cell_type": "code",
   "execution_count": 10,
   "metadata": {},
   "outputs": [
    {
     "name": "stdout",
     "output_type": "stream",
     "text": [
      "Projects processed:  65\n"
     ]
    }
   ],
   "source": [
    "apps_data :Dict[str, Dict[str, pd.DataFrame]] = {}\n",
    "for project in apps_set:\n",
    "    apps_data[project] = {\n",
    "        \"ck\": ck_in_a_project(project),\n",
    "        \"acs\": acs_in_a_project(project),\n",
    "        \"files\": files_in_a_project(project)\n",
    "    }\n",
    "\n",
    "print(\"Projects processed: \", len(apps_data.keys()))"
   ]
  },
  {
   "cell_type": "markdown",
   "metadata": {},
   "source": [
    "AVG, median, percentiles..."
   ]
  },
  {
   "cell_type": "code",
   "execution_count": 11,
   "metadata": {},
   "outputs": [],
   "source": [
    "def process_ck(df: pd.DataFrame) -> pd.DataFrame:\n",
    "    pd_recast_numeric = pd.DataFrame()\n",
    "    output = pd.DataFrame()\n",
    "    for col in df.columns:\n",
    "        try:\n",
    "            if col in [\"id\", \"file_path\"]:\n",
    "                raise ValueError\n",
    "            pd_recast_numeric[col] = pd.to_numeric(df[col])\n",
    "            # output[f\"{col}__mean\"] = pd_recast_numeric[col].mean(skipna=True)\n",
    "            # output[f\"{col}__median\"] = pd_recast_numeric[col].median(skipna=True)\n",
    "            # output[f\"{col}__90_perc\"] = pd_recast_numeric[col].quantile(.90 )\n",
    "        except ValueError:\n",
    "            continue\n",
    "        except Exception as e:\n",
    "            print(\"Exception: \", e)\n",
    "            print(f\"Skipping column {col} of type {pd_recast_numeric[col].dtype}\")\n",
    "    return pd_recast_numeric.describe()"
   ]
  },
  {
   "cell_type": "code",
   "execution_count": 12,
   "metadata": {},
   "outputs": [
    {
     "data": {
      "text/plain": [
       "163"
      ]
     },
     "execution_count": 12,
     "metadata": {},
     "output_type": "execute_result"
    }
   ],
   "source": [
    "apps_data[project_name][\"acs\"].loc[apps_data[project_name][\"acs\"][\"ac\"] == \"Logic as Control Flow\"][\"ac_count\"].sum()"
   ]
  },
  {
   "cell_type": "code",
   "execution_count": 13,
   "metadata": {},
   "outputs": [],
   "source": [
    "def correlation_with_loc(project_name):\n",
    "    corr_test = acs_in_a_project(project_name).groupby(\"path\").agg({\"ac_count\": \"sum\", \"loc\": \"max\"}).reset_index()\n",
    "    corr_test[\"ac_count\"] = corr_test[\"ac_count\"].astype(int)\n",
    "    corr_test[\"loc\"] = corr_test[\"loc\"].astype(int)\n",
    "    return corr_test.corr(\"pearson\", numeric_only=True)[\"ac_count\"][\"loc\"]\n",
    "\n",
    "def export_ac_cout_loc(project_name:str):\n",
    "    df = acs_in_a_project(project_name).groupby(\"path\").agg({\"ac_count\": \"sum\", \"loc\": \"max\"}).reset_index()\n",
    "    escaped_project_name = project_name.replace(\"/\",\"_\")\n",
    "    df.to_csv(f\"./corrs/{escaped_project_name}.csv\")"
   ]
  },
  {
   "cell_type": "markdown",
   "metadata": {},
   "source": [
    "## Types of ACs per project"
   ]
  },
  {
   "cell_type": "code",
   "execution_count": 41,
   "metadata": {},
   "outputs": [],
   "source": [
    "def pivot_results(df: pd.DataFrame, project_name: str):\n",
    "    df_pivoted = pd.pivot_table(df, columns=\"ac\", values=\"qty\")\n",
    "    filter_list = [\"ac\", \"project_name\"]\n",
    "    df_pivoted.columns = [acronym_ac(x) for x in df_pivoted.columns if x not in filter_list]\n",
    "    df_pivoted[\"project_name\"] = project_name\n",
    "    return df_pivoted"
   ]
  },
  {
   "cell_type": "code",
   "execution_count": 42,
   "metadata": {},
   "outputs": [
    {
     "data": {
      "text/html": [
       "<div>\n",
       "<style scoped>\n",
       "    .dataframe tbody tr th:only-of-type {\n",
       "        vertical-align: middle;\n",
       "    }\n",
       "\n",
       "    .dataframe tbody tr th {\n",
       "        vertical-align: top;\n",
       "    }\n",
       "\n",
       "    .dataframe thead th {\n",
       "        text-align: right;\n",
       "    }\n",
       "</style>\n",
       "<table border=\"1\" class=\"dataframe\">\n",
       "  <thead>\n",
       "    <tr style=\"text-align: right;\">\n",
       "      <th></th>\n",
       "      <th>ac_CoLE</th>\n",
       "      <th>ac_CO</th>\n",
       "      <th>ac_IOP</th>\n",
       "      <th>ac_LaCF</th>\n",
       "      <th>ac_Post-Inc/Dec</th>\n",
       "      <th>ac_Pre-Inc/Dec</th>\n",
       "      <th>ac_TC</th>\n",
       "      <th>project_name</th>\n",
       "    </tr>\n",
       "  </thead>\n",
       "  <tbody>\n",
       "    <tr>\n",
       "      <th>qty</th>\n",
       "      <td>8.0</td>\n",
       "      <td>57.0</td>\n",
       "      <td>34.0</td>\n",
       "      <td>99.0</td>\n",
       "      <td>29.0</td>\n",
       "      <td>1.0</td>\n",
       "      <td>18.0</td>\n",
       "      <td>external/glide</td>\n",
       "    </tr>\n",
       "  </tbody>\n",
       "</table>\n",
       "</div>"
      ],
      "text/plain": [
       "    ac_CoLE ac_CO ac_IOP ac_LaCF ac_Post-Inc/Dec ac_Pre-Inc/Dec ac_TC  \\\n",
       "qty     8.0  57.0   34.0    99.0            29.0            1.0  18.0   \n",
       "\n",
       "       project_name  \n",
       "qty  external/glide  "
      ]
     },
     "execution_count": 42,
     "metadata": {},
     "output_type": "execute_result"
    }
   ],
   "source": [
    "for project in ALL_PROJECTS:\n",
    "    asd = pivot_results(report_types_of_acs(project), project)\n",
    "    break\n",
    "asd"
   ]
  }
 ],
 "metadata": {
  "kernelspec": {
   "display_name": "venv",
   "language": "python",
   "name": "python3"
  },
  "language_info": {
   "codemirror_mode": {
    "name": "ipython",
    "version": 3
   },
   "file_extension": ".py",
   "mimetype": "text/x-python",
   "name": "python",
   "nbconvert_exporter": "python",
   "pygments_lexer": "ipython3",
   "version": "3.10.12"
  }
 },
 "nbformat": 4,
 "nbformat_minor": 2
}
